{
 "cells": [
  {
   "cell_type": "markdown",
   "id": "8ef11196-30a9-4509-aa5b-1fb4eef1782e",
   "metadata": {},
   "source": [
    "# [Epi/Biostats 101] HW 7: Measures of Disease Occurrence"
   ]
  },
  {
   "cell_type": "code",
   "execution_count": null,
   "id": "7c0c4b74-f11f-4235-bc2c-d37c69981655",
   "metadata": {},
   "outputs": [],
   "source": [
    "import pandas as pd\n",
    "import numpy as np"
   ]
  },
  {
   "cell_type": "markdown",
   "id": "f103af05-4f1f-4c18-8b7f-f7c946e14f4c",
   "metadata": {},
   "source": [
    "<hr style=\"border: 5px solid #003262;\" />\n",
    "<hr style=\"border: 1px solid #fdb515;\" />"
   ]
  },
  {
   "cell_type": "markdown",
   "id": "7272f58b-0055-4dc6-8e38-665557ce97db",
   "metadata": {},
   "source": [
    "### Overview\n",
    "In this homework you will be calculating and considering some simple measures of disease occurrence we learned from lecture."
   ]
  },
  {
   "cell_type": "markdown",
   "id": "60908c46-c03c-498c-8a8c-fd0cc0258bb1",
   "metadata": {},
   "source": [
    "---"
   ]
  },
  {
   "cell_type": "markdown",
   "id": "2f981382-9569-458b-ae57-217c0e17917d",
   "metadata": {},
   "source": [
    "### Section 1: Leading Causes of Death in 2020"
   ]
  },
  {
   "cell_type": "markdown",
   "id": "2169d4a0-fdbf-4917-b196-685b52fa6bd5",
   "metadata": {},
   "source": [
    "Below is a table representing the top 10 causes of death in the US in 2020. Answer the following questions"
   ]
  },
  {
   "cell_type": "code",
   "execution_count": null,
   "id": "9b337354-2992-412a-b572-8e32183c6fe9",
   "metadata": {},
   "outputs": [],
   "source": [
    "top_2020_deaths = pd.DataFrame({'cause': ['Heart Disease',\n",
    "                                          'Cancer',\n",
    "                                          'COVID-19',\n",
    "                                          'Accidents (unintentional injury)',\n",
    "                                          'Stroke (Cerebrovascular diseases)',\n",
    "                                          'Chronic Lower Respiratory Diseases',\n",
    "                                          'Alzheimer\\'s Disease',\n",
    "                                          'Diabetes',\n",
    "                                          'Influenza, Pneumonia',\n",
    "                                          'Nephritis, Nephrotic Syndrome'],\n",
    "                                'num_deaths': [696962, 602350, 350831, 160264, 152657, 150005, 134242, 102188, 53544, 52547]})\n",
    "\n",
    "top_2020_deaths"
   ]
  },
  {
   "cell_type": "markdown",
   "id": "3e299a53-d314-43f1-bd08-55e2aadf3217",
   "metadata": {},
   "source": [
    "**Question 1**: What was the total number of deaths in 2020? Assign this to a variable named `total_deaths`."
   ]
  },
  {
   "cell_type": "code",
   "execution_count": null,
   "id": "10fea336-517b-441a-8990-9decd50578fa",
   "metadata": {},
   "outputs": [],
   "source": [
    "# Your code here"
   ]
  },
  {
   "cell_type": "markdown",
   "id": "5ace9fab-993b-4fe4-aad0-0ada45757e8c",
   "metadata": {},
   "source": [
    "<br>"
   ]
  },
  {
   "cell_type": "markdown",
   "id": "f6ec7bc0-01f9-4845-81ee-f0d6a9146726",
   "metadata": {},
   "source": [
    "**Question 2**: Create a column called `proportionate_mortality` which calculates the proportionate mortality for each disease in the table."
   ]
  },
  {
   "cell_type": "code",
   "execution_count": null,
   "id": "88217ca0-8a60-4d2c-99f6-cf8dc40cb721",
   "metadata": {},
   "outputs": [],
   "source": [
    "# Your code here"
   ]
  },
  {
   "cell_type": "markdown",
   "id": "f3d100a2-2fac-4f48-a8db-4d33d67d114c",
   "metadata": {},
   "source": [
    "<br>"
   ]
  },
  {
   "cell_type": "markdown",
   "id": "6338b6b4-16c6-4142-9b14-a97def31d2e0",
   "metadata": {},
   "source": [
    "**Question 3**: Do you have enough information to calculate the case-fatality rate? Why or why not? What information would you need?"
   ]
  },
  {
   "cell_type": "markdown",
   "id": "5ea1f03c-2766-4ebb-91fc-0223799829ae",
   "metadata": {},
   "source": [
    "**Your answer here**"
   ]
  },
  {
   "cell_type": "markdown",
   "id": "4a59b43e-8b18-4be8-a0b8-49140236e7eb",
   "metadata": {},
   "source": [
    "<br>"
   ]
  },
  {
   "cell_type": "markdown",
   "id": "695eaece-504b-4de4-94c9-72d329cc0d50",
   "metadata": {},
   "source": [
    "---"
   ]
  },
  {
   "cell_type": "markdown",
   "id": "c880b380-f5a5-451b-8a16-349d75f5ba9c",
   "metadata": {},
   "source": [
    "### Section 2: Measures of Morbidity"
   ]
  },
  {
   "cell_type": "markdown",
   "id": "ed84cfe3-6269-48aa-af1f-b93cee96ff1a",
   "metadata": {},
   "source": [
    "**Question 4**: Define, in your own words, the difference between incidence and prevalence. How are they related?"
   ]
  },
  {
   "cell_type": "code",
   "execution_count": null,
   "id": "8e4103ba-85a7-467e-9da2-a9d4e348a832",
   "metadata": {},
   "outputs": [],
   "source": []
  },
  {
   "cell_type": "markdown",
   "id": "4ed4c02c-39ac-4866-ae19-03f40d6c5a97",
   "metadata": {},
   "source": [
    "<br>"
   ]
  },
  {
   "cell_type": "markdown",
   "id": "98a4631f-182e-4d91-9dd3-e07ccded5c2b",
   "metadata": {},
   "source": [
    "**Question 5**: Fill in the blank."
   ]
  },
  {
   "cell_type": "markdown",
   "id": "9e070ca9-fdf2-4b84-a068-56db4e1d89af",
   "metadata": {},
   "source": [
    "The two types of prevalence measures are **_______________** and **_______________**  \n",
    "The two types of incidence measures are **_______________** and **_______________**"
   ]
  },
  {
   "cell_type": "markdown",
   "id": "821f58d7-95d6-4846-aa1c-355ac1aaab3f",
   "metadata": {},
   "source": [
    "---"
   ]
  },
  {
   "cell_type": "markdown",
   "id": "40ea3b9f-7757-44cd-b16a-8a8d19f3f0ee",
   "metadata": {},
   "source": [
    "### Submission\n",
    "Congratulations! You have finished homework 7 You should now have a better grasp of the following concepts:\n",
    "- Calculating proportionate mortality\n",
    "- Understading conditions required to calculate different mortality measures (case-fatality)\n",
    "- Defining incidence and prevalence\n",
    "- Identifying the relationship between incidence and prevalence \n",
    "- Identifying ways to measure morbidity"
   ]
  },
  {
   "cell_type": "markdown",
   "id": "2e5a74c3-eba6-4bf9-910b-e51ad28abd57",
   "metadata": {},
   "source": [
    "Please submit this assignment to bCourses by **Monday November 13th, by 6PM.**"
   ]
  }
 ],
 "metadata": {
  "kernelspec": {
   "display_name": "Python 3 (ipykernel)",
   "language": "python",
   "name": "python3"
  },
  "language_info": {
   "codemirror_mode": {
    "name": "ipython",
    "version": 3
   },
   "file_extension": ".py",
   "mimetype": "text/x-python",
   "name": "python",
   "nbconvert_exporter": "python",
   "pygments_lexer": "ipython3",
   "version": "3.9.18"
  }
 },
 "nbformat": 4,
 "nbformat_minor": 5
}
