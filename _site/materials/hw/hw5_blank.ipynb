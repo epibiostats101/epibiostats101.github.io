{
 "cells": [
  {
   "cell_type": "markdown",
   "id": "2a776563-36b0-40c0-8d89-c988b5cbadec",
   "metadata": {},
   "source": [
    "# PBHLTH 198, Fall 2023 | Homework 5"
   ]
  },
  {
   "cell_type": "markdown",
   "id": "1a6f41f3-da63-451d-b9a9-13f8848093b9",
   "metadata": {},
   "source": [
    "# Section 1: Exploring the Basics of Machine Learning"
   ]
  },
  {
   "cell_type": "markdown",
   "id": "8fdf40de-219f-4051-81fa-e063ec40feb8",
   "metadata": {},
   "source": [
    "In this section, we'll explore and review the basics of machine learning and modeling, an essential tool in epidemiology and biostatistics. Specifically, we use modeling to measure the effect of spread of certain diseases, how different groups react to different levels of treatments, and exploring the confoudig nature of our epidemiological studies.\n",
    "\n",
    "For now, we'll stick to the basics and a general overview on modeling, equipping you with the necessary skills for the final project. Before we get into the questions, let's (re)introduce some of the more commonly used models:\n",
    "\n",
    "### A General Overview of Some Models\n",
    "\n",
    "**Linear Regression**: \n",
    "- Models a continous response variable (e.g. price)\n",
    "- Assumes that the interaction between variables is *linear* (e.g. If I increase the value of one variable, how much will my response increase by?)\n",
    "- Creates a best fit line that minimizes the *Root Mean Square Error* ($\\text{RMSE}$) between the line and the data points\n",
    "    - In its simplest form, the line of best fit is in the form: \n",
    "    $$\\underbrace{Y}_{\\text{Response Variable}} = \n",
    "    \\underbrace{\\beta_0}_{\\text{Intercept}}\\hspace{1cm} + \n",
    "    \\hspace{0cm}\n",
    "    \\underbrace{\\beta_1 X}_{\\text{Data times Some Coefficient}}$$\n",
    "\n",
    "**Logistic Regression**: \n",
    "- Models a binary output variable (e.g. disease or no disease)\n",
    "- One of the more common models used in biostatistics and epidemiology \n",
    "    - Used to estimate effect of treatment for control group and treatment group\n",
    "- Returns the *probability* of the response variable based on features of the data\n",
    "- Takes the form:\n",
    "$$\\underbrace{P(Y=1)}_{\\text{Probability of Y = 1}} = \\frac{e^{\\beta_0 + \\beta_1 X}}{1 + e^{\\beta_0 + \\beta_1 X}}$$\n",
    "    - Where $\\beta_0$ is our intercept, and $\\beta_1 X$ is the coefficient determined by the model times our data\n",
    "    \n",
    "Don't worry too much about the specifics of each model for now. Later on in the semester, we'll work with more complex models that are more specific to the domain of epidemiology and biostatistics. Let's focus more on the overview of constructing models with a Python package. This package is called ```scikit-learn```, also known as ```sklearn```.\n",
    "\n",
    "For the following questions, we'll be asking about how we prepare our data for model creation using ```sklearn```."
   ]
  },
  {
   "cell_type": "markdown",
   "id": "dc7938bb-9a20-4ed2-9ffd-337091fbe5d5",
   "metadata": {},
   "source": [
    "## Question 1:\n",
    "Given the DataFrame ```df```, look up an ```sklearn``` function we could use you split our data into a training set and a test set?"
   ]
  },
  {
   "cell_type": "markdown",
   "id": "5fa11029-aa12-428e-be0f-21c9a1601b0a",
   "metadata": {},
   "source": [
    "_Type your answer here, replacing this text._"
   ]
  },
  {
   "cell_type": "markdown",
   "id": "f6f6e898-33ba-4ea4-9dae-16ffaed1370a",
   "metadata": {},
   "source": [
    "## Question 2: \n",
    "Now that we've split up our data, what is a training set and a test set? Which of these do you train your model on and why? Should you include the actual ground truth labels in your model? Why or why not?"
   ]
  },
  {
   "cell_type": "markdown",
   "id": "eeae7e1b-37db-4f65-9dde-8c378e2d70d0",
   "metadata": {},
   "source": [
    "_Type your answer here, replacing this text._"
   ]
  },
  {
   "cell_type": "markdown",
   "id": "a5916a49-c9bc-4942-9b59-3a63eafe95b2",
   "metadata": {},
   "source": [
    "## Question 3:\n",
    "For this next part, assume we trained a ```LogisticRegression``` model called ```lr```. \n",
    "\n",
    "Great! We've split up our data and trained our model. Before we get to predicting on our test set, first, let's evaluate how our overall model is doing. First, what sklearn function can we use to see the predicted labels our model made? What argument should we pass into this function, the training set or the testing set?\n",
    "\n",
    "*Hint*: The link to sklearn's ```LogisticRegression``` documentation is found [here](https://scikit-learn.org/stable/modules/generated/sklearn.linear_model.LogisticRegression.html)."
   ]
  },
  {
   "cell_type": "markdown",
   "id": "03dab559-2afe-49db-94b5-f6e3251d388b",
   "metadata": {},
   "source": [
    "_Type your answer here, replacing this text._"
   ]
  },
  {
   "cell_type": "markdown",
   "id": "31c5c2b6-1165-4762-8e68-103fe03088d0",
   "metadata": {},
   "source": [
    "## Question 4:"
   ]
  },
  {
   "cell_type": "markdown",
   "id": "8c2147bb-e837-46cd-ae2f-31e8dbb3c3a3",
   "metadata": {},
   "source": [
    "A brief blurb about accuracy, it is the percentage of correct classifications our model makes.\n",
    "\n",
    "For a more mathematical approach, accuracy in modeling is defined as:\n",
    "\n",
    "$$\\text{Accuracy}\\space =\\space \\frac{\\text{TP} + \\text{TN}}{\\text{All Points in the Data}},$$\n",
    "\n",
    "where $\\text{TP}$, True Positive, is the number of data points the model correctly predicted as surviving and $\\text{TN}$, True Negative, is the number of data points the model correctly predicted as not surviving.\n",
    "\n",
    "Given this information, we now have the predicted labels our model made for the set you answered in Question 2. How do we compare these predictions to the actual, ground truth labels of our data? What sklearn function could do this for us and what arguments would we pass in? What does a high accuracy indicate? How about a low one?\n",
    "\n",
    "*Hint*: Read up on what [this](https://scikit-learn.org/stable/modules/generated/sklearn.metrics.accuracy_score.html) function does. "
   ]
  },
  {
   "cell_type": "markdown",
   "id": "565db1d2-d7b4-4e5e-b2ee-d7376e63c440",
   "metadata": {},
   "source": [
    "_Type your answer here, replacing this text._"
   ]
  },
  {
   "cell_type": "markdown",
   "id": "90d4cad1-0d76-4e55-bffd-5d4c87cb4030",
   "metadata": {},
   "source": [
    "## Question 5:"
   ]
  },
  {
   "cell_type": "markdown",
   "id": "c7c81e98-e2d0-46b0-881b-31a48e3c294c",
   "metadata": {},
   "source": [
    "Now that we saw how our model was doing on the training set, let's see how it does on the testing set. After doing the same thing we did in Question 4, we see that the accuracy is not as good as the accuracy on the training set. List some possible explanations as to why this may be and how you would address them."
   ]
  },
  {
   "cell_type": "markdown",
   "id": "ccac7b29-fa10-4772-b1c2-ceb89bc4a57a",
   "metadata": {},
   "source": [
    "_Type your answer here, replacing this text._"
   ]
  },
  {
   "cell_type": "markdown",
   "id": "e9130185-8961-43eb-8a63-daeb917c5a64",
   "metadata": {},
   "source": [
    "# Section 2: Working with Machine Learning\n"
   ]
  },
  {
   "cell_type": "markdown",
   "id": "44f6118a-286b-421f-9631-2b8f3c0c8f14",
   "metadata": {},
   "source": [
    "Now that we have some of the basics down, let's put our knowledge into some coding practice. This section will primarily compose of coding, making use of sklearn's functions. We'll be working with a well-known dataset: the Titanic dataset.\n",
    "\n",
    "The primary objective of using this dataset is to predict whether or not a passenger on the Titanic survived based on certain characterstics of the passenger. Here, because we're predicting on a binary outcome ($0$ if the passenger died and $1$ if they survived), we'll be using ```LogisticRegression```.\n",
    "\n",
    "Load in all the necessary imports below."
   ]
  },
  {
   "cell_type": "code",
   "execution_count": null,
   "id": "7a6ff0ea-8ea3-460c-9523-c427d8b0b4a7",
   "metadata": {},
   "outputs": [],
   "source": [
    "import pandas as pd\n",
    "import numpy as np\n",
    "\n",
    "from sklearn.linear_model import LogisticRegression\n",
    "from sklearn.metrics import accuracy_score\n",
    "from sklearn.model_selection import train_test_split"
   ]
  },
  {
   "cell_type": "markdown",
   "id": "90145a67-21ce-4bee-aac2-bc3a13f73496",
   "metadata": {},
   "source": [
    "## Question 1"
   ]
  },
  {
   "cell_type": "markdown",
   "id": "e6d84fb0-ce97-432f-94dc-677689cce6c1",
   "metadata": {},
   "source": [
    "Load in the ```titanic.csv``` into the notebook using Pandas."
   ]
  },
  {
   "cell_type": "code",
   "execution_count": null,
   "id": "4cb3e3dc-d0b9-4ce8-9726-d64405401093",
   "metadata": {},
   "outputs": [],
   "source": [
    "# YOUR CODE HERE"
   ]
  },
  {
   "cell_type": "markdown",
   "id": "745b9ed3-747f-4673-b0a3-a70da8f677f0",
   "metadata": {},
   "source": [
    "## Question 2"
   ]
  },
  {
   "cell_type": "markdown",
   "id": "30a16c70-fda4-478f-bbe7-c3e3b324281f",
   "metadata": {},
   "source": [
    "Now that we have our data loaded in, we want to split our data up, with our training data containing $60\\%$ of the data and the testing data containing the remaining $40\\%$. Create two new variables: ```train``` and ```test```, that should be two separate DataFrames using ```train_test_split```."
   ]
  },
  {
   "cell_type": "code",
   "execution_count": null,
   "id": "be70a4ad-a6d5-4372-8e17-4ff5d3c8bd19",
   "metadata": {},
   "outputs": [],
   "source": [
    "train, test = # YOUR CODE HERE"
   ]
  },
  {
   "cell_type": "markdown",
   "id": "bcb88a0e-fcd1-46b5-981a-dca21543efcd",
   "metadata": {},
   "source": [
    "## Question 3"
   ]
  },
  {
   "cell_type": "markdown",
   "id": "a24ce365-b57b-4cd3-9301-1bdb71f5a468",
   "metadata": {},
   "source": [
    "Looking at the original dataset, there's a lot of missing values for certain columns! Instead of dealing with these missing values, we'll ignore them for now by not using them for our model. Instead, we'll only be using the passenger's ```Sex``` for our model for simplicity. Run the cell below."
   ]
  },
  {
   "cell_type": "code",
   "execution_count": null,
   "id": "4d0c4f56-f3f2-4a29-abee-98453b93c884",
   "metadata": {},
   "outputs": [],
   "source": [
    "# DO NOT EDIT THIS CODE\n",
    "train = train[['Survived', 'Sex']]\n",
    "test = test[['Survived', 'Sex']]"
   ]
  },
  {
   "cell_type": "markdown",
   "id": "28efc195-fe4a-49aa-866b-ca4052aea710",
   "metadata": {},
   "source": [
    "The following cell below converts a passenger's sex into a numeric value, $0$ for Man and $1$ for Woman. This is because when using modeling functions, we can only pass in numeric values. Run the cell below"
   ]
  },
  {
   "cell_type": "code",
   "execution_count": null,
   "id": "91a32494-1287-4ec2-a2b2-f70428558074",
   "metadata": {},
   "outputs": [],
   "source": [
    "# DO NOT EDIT THIS CODE\n",
    "train = train.replace({'Sex' : {'male' : 0, 'female' : 1}})\n",
    "test = test.replace({'Sex' : {'male' : 0, 'female' : 1}})"
   ]
  },
  {
   "cell_type": "code",
   "execution_count": null,
   "id": "e1a151cf-0f60-4275-94e1-15eed3970d0c",
   "metadata": {},
   "outputs": [],
   "source": [
    "train.head()"
   ]
  },
  {
   "cell_type": "code",
   "execution_count": null,
   "id": "89d390b0-d9c0-48da-a403-6e080266607e",
   "metadata": {},
   "outputs": [],
   "source": [
    "test.head()"
   ]
  },
  {
   "cell_type": "markdown",
   "id": "a716c073-9616-466a-9424-a6d8c2f830fe",
   "metadata": {},
   "source": [
    "Now that we've isolated the columns we only want to work with, create a ```LogisticRegression``` model below and fit it with the training data.\n",
    "\n",
    "**NOTE**: Because we are only working with one feature, you may get an error saying: \"Expected 2D array, got 1D array instead:\". When you're passing in the feature, pass it in as a *DataFrame*, not as a Series. This note carries on to the rest of the questions."
   ]
  },
  {
   "cell_type": "code",
   "execution_count": null,
   "id": "19b75bb9-de87-458d-a8b9-776bfb5fe34d",
   "metadata": {
    "tags": []
   },
   "outputs": [],
   "source": [
    "lr = # YOUR CODE HERE\n",
    "lr.fit(...)"
   ]
  },
  {
   "cell_type": "markdown",
   "id": "c9247511-255f-4df6-b063-f6385c71e8e4",
   "metadata": {},
   "source": [
    "## Question 4"
   ]
  },
  {
   "cell_type": "markdown",
   "id": "fefe875b-2e0e-496c-9749-9e16c4018c5d",
   "metadata": {},
   "source": [
    "Now that we've created and fit our model, evaluate how our model is doing on the *training set*. Use ```accuracy_score``` to simplifiy your calculations"
   ]
  },
  {
   "cell_type": "code",
   "execution_count": null,
   "id": "9e113ee4-d7c0-42a9-80d0-51e29d7d0fda",
   "metadata": {},
   "outputs": [],
   "source": [
    "# YOUR CODE HERE"
   ]
  },
  {
   "cell_type": "markdown",
   "id": "a8e54b7b-4f33-4cf2-88dc-3632db7e4a93",
   "metadata": {},
   "source": [
    "## Question 5"
   ]
  },
  {
   "cell_type": "markdown",
   "id": "91a4cb30-a187-4cf6-a516-9d1465d1e594",
   "metadata": {},
   "source": [
    "Now evalute your model on the *testing set* and report the accuracy. How does it compare with the accuracy on the training set?"
   ]
  },
  {
   "cell_type": "code",
   "execution_count": null,
   "id": "b0308e2f-dd91-40a2-bfe4-8cca2246a194",
   "metadata": {},
   "outputs": [],
   "source": [
    "# YOUR CODE HERE"
   ]
  },
  {
   "cell_type": "markdown",
   "id": "02e2158f-ff95-4d04-bda9-4b75f9967053",
   "metadata": {},
   "source": [
    "_Type your answer here, replacing this text._"
   ]
  },
  {
   "cell_type": "markdown",
   "id": "c4c5adac-afd9-46f5-a6eb-594de5260cd0",
   "metadata": {},
   "source": [
    "# Question 6"
   ]
  },
  {
   "cell_type": "markdown",
   "id": "3c98d07c-ebff-4e8c-a65d-1dbc0082f958",
   "metadata": {},
   "source": [
    "That's a pretty good accuracy for both the training and test set from just predicting on one feature! How would you recommend we improve this accuracy? This could range from using more features to using a different model, etc.\n",
    "\n",
    "For reference, this is what the whole dataset looks like:"
   ]
  },
  {
   "cell_type": "code",
   "execution_count": null,
   "id": "e0f3e80c-bed5-4d76-a222-567bd6aa259e",
   "metadata": {},
   "outputs": [],
   "source": [
    "pd.read_csv('titanic.csv').head()"
   ]
  },
  {
   "cell_type": "markdown",
   "id": "40c1534a-2fbf-4a7d-9076-b98cd1f9b096",
   "metadata": {},
   "source": [
    "_Type your answer here, replacing this text._"
   ]
  }
 ],
 "metadata": {
  "kernelspec": {
   "display_name": "Python 3 (ipykernel)",
   "language": "python",
   "name": "python3"
  },
  "language_info": {
   "codemirror_mode": {
    "name": "ipython",
    "version": 3
   },
   "file_extension": ".py",
   "mimetype": "text/x-python",
   "name": "python",
   "nbconvert_exporter": "python",
   "pygments_lexer": "ipython3",
   "version": "3.9.6"
  }
 },
 "nbformat": 4,
 "nbformat_minor": 5
}
