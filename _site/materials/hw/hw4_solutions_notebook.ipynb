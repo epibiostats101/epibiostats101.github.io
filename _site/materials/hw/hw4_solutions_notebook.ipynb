{
 "cells": [
  {
   "cell_type": "markdown",
   "id": "1a7c1d9a-6901-4dbf-b22a-3976bad8b8f5",
   "metadata": {},
   "source": [
    "# [Epi/Biostats 101] HW 4: Pandas"
   ]
  },
  {
   "cell_type": "code",
   "execution_count": 23,
   "id": "df33b238-d745-44e1-87d5-9805ce1941b2",
   "metadata": {},
   "outputs": [],
   "source": [
    "import pandas as pd\n",
    "import numpy as np\n",
    "import scipy\n",
    "import matplotlib.pyplot as plt\n",
    "import seaborn as sns\n",
    "import warnings\n",
    "warnings.filterwarnings('ignore')"
   ]
  },
  {
   "cell_type": "markdown",
   "id": "0ac1c8e0-b0b0-46f1-acc2-787be9a405aa",
   "metadata": {},
   "source": [
    "<hr style=\"border: 5px solid #003262;\" />\n",
    "<hr style=\"border: 1px solid #fdb515;\" />"
   ]
  },
  {
   "cell_type": "markdown",
   "id": "8045d7e0-568d-481e-b344-cf274e3f410d",
   "metadata": {},
   "source": [
    "In this homework, you will be analyzing the Hot Flashes dataset using your knowledge of Pandas and basic statistics"
   ]
  },
  {
   "cell_type": "markdown",
   "id": "57368bf2-051c-4baa-a466-aa91f9c43742",
   "metadata": {},
   "source": [
    "# About: Hot Flashes Dataset "
   ]
  },
  {
   "cell_type": "markdown",
   "id": "0373d174-b7e8-42f6-a88b-f48cfa8a006b",
   "metadata": {},
   "source": [
    "### Background\n",
    "Menopause heralds a complex array of hormonal and physiologic changes, the most common of which is the\n",
    "feverish discomfort of hot flashes and often accompanied by sweating, chills and anxiety. The Mayo Clinic defines a \n",
    "hot flash as the “sudden feeling of warmth in the upper body which is usually most intense over the face, neck and \n",
    "chest”. Among women in the menopausal transition, hot flashes typically occur daily, are between 2-5 minutes \n",
    "duration, and can be expected to persist for more than 7 years. Variations in hot flash experiences during the menopausal transition among different populations have been \n",
    "observed but are incompletely understood. Freeman et al (2001) explored race differences in self-reported hot \n",
    "flashes in a multivariable analysis that also considered other hypothesized correlates: prior symptoms of menopause, \n",
    "current reproductive hormone levels, obesity, sedentary lifestyle and smoking\n",
    "\n",
    "### Purpose \n",
    "The purpose of this study was to investigate race differences in the odds (OR) of self-reported hot flashes (African \n",
    "American versus Caucasian), both unadjusted and after adjustment for pre-menopausal symptoms, current \n",
    "reproductive hormone levels, obesity, sedentary lifestyle, smoking, age, and education.\n",
    "\n",
    "### Study Design\n",
    "The original study of Freeman et al (2001) was a 14-year prospective cohort study of ovarian aging. Participants \n",
    "were generally healthy and regularly menstruating women aged 35-47 at the time of enrollment and were recruited \n",
    "through random digit dialing in Philadelphia County, PA. Recruitment was stratified by race to ensure equal \n",
    "numbers of African American and Caucasian women.\n",
    "This dataset is cross-sectional, as it only contains baseline data."
   ]
  },
  {
   "cell_type": "markdown",
   "id": "adf86df0-cdb6-4900-82ad-8b7bb4c585e9",
   "metadata": {},
   "source": [
    "### Resources"
   ]
  },
  {
   "cell_type": "markdown",
   "id": "d1cb98a6-869b-4b83-a252-cd600e67ad1b",
   "metadata": {},
   "source": [
    "- Pandas API Reference: https://pandas.pydata.org/docs/reference/index.html\n",
    "- Seaborn API reference: https://seaborn.pydata.org/api.html\n",
    "- Hot Flashes Data Dictionary\n",
    "- ChatGPT/StackOverflow"
   ]
  },
  {
   "cell_type": "markdown",
   "id": "e1151e49-f26d-4bb8-b733-bf10600df974",
   "metadata": {},
   "source": [
    "---"
   ]
  },
  {
   "cell_type": "markdown",
   "id": "5a9ec820-d375-4f19-816a-337551ed1acd",
   "metadata": {},
   "source": [
    "### Question 1"
   ]
  },
  {
   "cell_type": "markdown",
   "id": "cd366cd8-4b71-4a29-a712-8f52117c72bc",
   "metadata": {},
   "source": [
    "Use a Pandas function to assign `hot_flashes_df` to a dataframe (table) containing the hot flashes data. Then, assign `num_rows`, `num_columns` and `column_names` to the number of rows, columns and a list of the column names in the dataset, respectively."
   ]
  },
  {
   "cell_type": "code",
   "execution_count": 24,
   "id": "1efd345a-8892-4a76-aad2-7b5c849695a7",
   "metadata": {},
   "outputs": [
    {
     "name": "stdout",
     "output_type": "stream",
     "text": [
      "Number of rows: 375\n",
      "Number of columns: 15\n",
      "Column Names: ['Unnamed: 0', 'pt', 'ageg', 'aagrp', 'edu', 'd1', 'f1a', 'pcs12', 'hotflash', 'bmi30', 'estra', 'fsh', 'lh', 'testo', 'dheas']\n"
     ]
    }
   ],
   "source": [
    "hot_flashes_df = pd.read_csv('hot_flashes.csv')\n",
    "\n",
    "num_rows = hot_flashes_df.shape[0]\n",
    "num_columns = hot_flashes_df.shape[1]\n",
    "column_names = hot_flashes_df.columns.to_list()\n",
    "\n",
    "print(f'Number of rows: {num_rows}')\n",
    "print(f'Number of columns: {num_columns}')\n",
    "print(f'Column Names: {column_names}')"
   ]
  },
  {
   "cell_type": "code",
   "execution_count": 25,
   "id": "b6486418-1c9f-4b97-ad84-f58e7a11473e",
   "metadata": {},
   "outputs": [
    {
     "data": {
      "text/html": [
       "<div>\n",
       "<style scoped>\n",
       "    .dataframe tbody tr th:only-of-type {\n",
       "        vertical-align: middle;\n",
       "    }\n",
       "\n",
       "    .dataframe tbody tr th {\n",
       "        vertical-align: top;\n",
       "    }\n",
       "\n",
       "    .dataframe thead th {\n",
       "        text-align: right;\n",
       "    }\n",
       "</style>\n",
       "<table border=\"1\" class=\"dataframe\">\n",
       "  <thead>\n",
       "    <tr style=\"text-align: right;\">\n",
       "      <th></th>\n",
       "      <th>Unnamed: 0</th>\n",
       "      <th>pt</th>\n",
       "      <th>ageg</th>\n",
       "      <th>aagrp</th>\n",
       "      <th>edu</th>\n",
       "      <th>d1</th>\n",
       "      <th>f1a</th>\n",
       "      <th>pcs12</th>\n",
       "      <th>hotflash</th>\n",
       "      <th>bmi30</th>\n",
       "      <th>estra</th>\n",
       "      <th>fsh</th>\n",
       "      <th>lh</th>\n",
       "      <th>testo</th>\n",
       "      <th>dheas</th>\n",
       "    </tr>\n",
       "  </thead>\n",
       "  <tbody>\n",
       "    <tr>\n",
       "      <th>0</th>\n",
       "      <td>0</td>\n",
       "      <td>3</td>\n",
       "      <td>2</td>\n",
       "      <td>0</td>\n",
       "      <td>1</td>\n",
       "      <td>0</td>\n",
       "      <td>0</td>\n",
       "      <td>56.80537</td>\n",
       "      <td>0</td>\n",
       "      <td>0</td>\n",
       "      <td>106.71</td>\n",
       "      <td>3.005</td>\n",
       "      <td>2.980</td>\n",
       "      <td>7.680</td>\n",
       "      <td>61.225</td>\n",
       "    </tr>\n",
       "    <tr>\n",
       "      <th>1</th>\n",
       "      <td>1</td>\n",
       "      <td>6</td>\n",
       "      <td>3</td>\n",
       "      <td>0</td>\n",
       "      <td>1</td>\n",
       "      <td>0</td>\n",
       "      <td>0</td>\n",
       "      <td>59.18338</td>\n",
       "      <td>0</td>\n",
       "      <td>0</td>\n",
       "      <td>31.25</td>\n",
       "      <td>11.195</td>\n",
       "      <td>5.760</td>\n",
       "      <td>11.930</td>\n",
       "      <td>104.920</td>\n",
       "    </tr>\n",
       "    <tr>\n",
       "      <th>2</th>\n",
       "      <td>2</td>\n",
       "      <td>7</td>\n",
       "      <td>1</td>\n",
       "      <td>0</td>\n",
       "      <td>1</td>\n",
       "      <td>0</td>\n",
       "      <td>1</td>\n",
       "      <td>57.73952</td>\n",
       "      <td>0</td>\n",
       "      <td>0</td>\n",
       "      <td>13.41</td>\n",
       "      <td>14.545</td>\n",
       "      <td>5.595</td>\n",
       "      <td>24.375</td>\n",
       "      <td>117.450</td>\n",
       "    </tr>\n",
       "    <tr>\n",
       "      <th>3</th>\n",
       "      <td>3</td>\n",
       "      <td>8</td>\n",
       "      <td>1</td>\n",
       "      <td>0</td>\n",
       "      <td>1</td>\n",
       "      <td>1</td>\n",
       "      <td>0</td>\n",
       "      <td>55.83575</td>\n",
       "      <td>1</td>\n",
       "      <td>0</td>\n",
       "      <td>10.64</td>\n",
       "      <td>5.530</td>\n",
       "      <td>2.260</td>\n",
       "      <td>8.280</td>\n",
       "      <td>36.850</td>\n",
       "    </tr>\n",
       "    <tr>\n",
       "      <th>4</th>\n",
       "      <td>4</td>\n",
       "      <td>9</td>\n",
       "      <td>2</td>\n",
       "      <td>0</td>\n",
       "      <td>1</td>\n",
       "      <td>0</td>\n",
       "      <td>1</td>\n",
       "      <td>55.89324</td>\n",
       "      <td>0</td>\n",
       "      <td>0</td>\n",
       "      <td>24.06</td>\n",
       "      <td>9.780</td>\n",
       "      <td>2.600</td>\n",
       "      <td>4.050</td>\n",
       "      <td>11.165</td>\n",
       "    </tr>\n",
       "  </tbody>\n",
       "</table>\n",
       "</div>"
      ],
      "text/plain": [
       "   Unnamed: 0  pt  ageg  aagrp  edu  d1  f1a     pcs12  hotflash  bmi30  \\\n",
       "0           0   3     2      0    1   0    0  56.80537         0      0   \n",
       "1           1   6     3      0    1   0    0  59.18338         0      0   \n",
       "2           2   7     1      0    1   0    1  57.73952         0      0   \n",
       "3           3   8     1      0    1   1    0  55.83575         1      0   \n",
       "4           4   9     2      0    1   0    1  55.89324         0      0   \n",
       "\n",
       "    estra     fsh     lh   testo    dheas  \n",
       "0  106.71   3.005  2.980   7.680   61.225  \n",
       "1   31.25  11.195  5.760  11.930  104.920  \n",
       "2   13.41  14.545  5.595  24.375  117.450  \n",
       "3   10.64   5.530  2.260   8.280   36.850  \n",
       "4   24.06   9.780  2.600   4.050   11.165  "
      ]
     },
     "execution_count": 25,
     "metadata": {},
     "output_type": "execute_result"
    }
   ],
   "source": [
    "hot_flashes_df.head(5)"
   ]
  },
  {
   "cell_type": "markdown",
   "id": "c00040fb-948c-4938-9abc-27590f3312e8",
   "metadata": {},
   "source": [
    "### Question 2\n",
    "In our dataframe, we have an extra column that was added by mistake called `Unnamed: 0`. Reassign `hot_flashes_df` to a dataframe that does not have this column."
   ]
  },
  {
   "cell_type": "code",
   "execution_count": 26,
   "id": "b3dd4b8f-9a93-44ef-8730-726f1a215319",
   "metadata": {},
   "outputs": [
    {
     "data": {
      "text/html": [
       "<div>\n",
       "<style scoped>\n",
       "    .dataframe tbody tr th:only-of-type {\n",
       "        vertical-align: middle;\n",
       "    }\n",
       "\n",
       "    .dataframe tbody tr th {\n",
       "        vertical-align: top;\n",
       "    }\n",
       "\n",
       "    .dataframe thead th {\n",
       "        text-align: right;\n",
       "    }\n",
       "</style>\n",
       "<table border=\"1\" class=\"dataframe\">\n",
       "  <thead>\n",
       "    <tr style=\"text-align: right;\">\n",
       "      <th></th>\n",
       "      <th>pt</th>\n",
       "      <th>ageg</th>\n",
       "      <th>aagrp</th>\n",
       "      <th>edu</th>\n",
       "      <th>d1</th>\n",
       "      <th>f1a</th>\n",
       "      <th>pcs12</th>\n",
       "      <th>hotflash</th>\n",
       "      <th>bmi30</th>\n",
       "      <th>estra</th>\n",
       "      <th>fsh</th>\n",
       "      <th>lh</th>\n",
       "      <th>testo</th>\n",
       "      <th>dheas</th>\n",
       "    </tr>\n",
       "  </thead>\n",
       "  <tbody>\n",
       "    <tr>\n",
       "      <th>0</th>\n",
       "      <td>3</td>\n",
       "      <td>2</td>\n",
       "      <td>0</td>\n",
       "      <td>1</td>\n",
       "      <td>0</td>\n",
       "      <td>0</td>\n",
       "      <td>56.80537</td>\n",
       "      <td>0</td>\n",
       "      <td>0</td>\n",
       "      <td>106.71</td>\n",
       "      <td>3.005</td>\n",
       "      <td>2.980</td>\n",
       "      <td>7.680</td>\n",
       "      <td>61.225</td>\n",
       "    </tr>\n",
       "    <tr>\n",
       "      <th>1</th>\n",
       "      <td>6</td>\n",
       "      <td>3</td>\n",
       "      <td>0</td>\n",
       "      <td>1</td>\n",
       "      <td>0</td>\n",
       "      <td>0</td>\n",
       "      <td>59.18338</td>\n",
       "      <td>0</td>\n",
       "      <td>0</td>\n",
       "      <td>31.25</td>\n",
       "      <td>11.195</td>\n",
       "      <td>5.760</td>\n",
       "      <td>11.930</td>\n",
       "      <td>104.920</td>\n",
       "    </tr>\n",
       "    <tr>\n",
       "      <th>2</th>\n",
       "      <td>7</td>\n",
       "      <td>1</td>\n",
       "      <td>0</td>\n",
       "      <td>1</td>\n",
       "      <td>0</td>\n",
       "      <td>1</td>\n",
       "      <td>57.73952</td>\n",
       "      <td>0</td>\n",
       "      <td>0</td>\n",
       "      <td>13.41</td>\n",
       "      <td>14.545</td>\n",
       "      <td>5.595</td>\n",
       "      <td>24.375</td>\n",
       "      <td>117.450</td>\n",
       "    </tr>\n",
       "    <tr>\n",
       "      <th>3</th>\n",
       "      <td>8</td>\n",
       "      <td>1</td>\n",
       "      <td>0</td>\n",
       "      <td>1</td>\n",
       "      <td>1</td>\n",
       "      <td>0</td>\n",
       "      <td>55.83575</td>\n",
       "      <td>1</td>\n",
       "      <td>0</td>\n",
       "      <td>10.64</td>\n",
       "      <td>5.530</td>\n",
       "      <td>2.260</td>\n",
       "      <td>8.280</td>\n",
       "      <td>36.850</td>\n",
       "    </tr>\n",
       "    <tr>\n",
       "      <th>4</th>\n",
       "      <td>9</td>\n",
       "      <td>2</td>\n",
       "      <td>0</td>\n",
       "      <td>1</td>\n",
       "      <td>0</td>\n",
       "      <td>1</td>\n",
       "      <td>55.89324</td>\n",
       "      <td>0</td>\n",
       "      <td>0</td>\n",
       "      <td>24.06</td>\n",
       "      <td>9.780</td>\n",
       "      <td>2.600</td>\n",
       "      <td>4.050</td>\n",
       "      <td>11.165</td>\n",
       "    </tr>\n",
       "  </tbody>\n",
       "</table>\n",
       "</div>"
      ],
      "text/plain": [
       "   pt  ageg  aagrp  edu  d1  f1a     pcs12  hotflash  bmi30   estra     fsh  \\\n",
       "0   3     2      0    1   0    0  56.80537         0      0  106.71   3.005   \n",
       "1   6     3      0    1   0    0  59.18338         0      0   31.25  11.195   \n",
       "2   7     1      0    1   0    1  57.73952         0      0   13.41  14.545   \n",
       "3   8     1      0    1   1    0  55.83575         1      0   10.64   5.530   \n",
       "4   9     2      0    1   0    1  55.89324         0      0   24.06   9.780   \n",
       "\n",
       "      lh   testo    dheas  \n",
       "0  2.980   7.680   61.225  \n",
       "1  5.760  11.930  104.920  \n",
       "2  5.595  24.375  117.450  \n",
       "3  2.260   8.280   36.850  \n",
       "4  2.600   4.050   11.165  "
      ]
     },
     "execution_count": 26,
     "metadata": {},
     "output_type": "execute_result"
    }
   ],
   "source": [
    "hot_flashes_df = hot_flashes_df.drop('Unnamed: 0', axis=1)\n",
    "\n",
    "hot_flashes_df.head(5)"
   ]
  },
  {
   "cell_type": "markdown",
   "id": "76d1461b-f56f-4449-948b-36a1e614bf60",
   "metadata": {},
   "source": [
    "### Question 3\n",
    "Suppose we want to use the `aagrp` variable later on. What does it represent according to the data dictionary? Rename this column with a more descriptive name."
   ]
  },
  {
   "cell_type": "code",
   "execution_count": 27,
   "id": "45c3784b-941e-4dbe-94aa-8316ebb996c0",
   "metadata": {},
   "outputs": [
    {
     "data": {
      "text/html": [
       "<div>\n",
       "<style scoped>\n",
       "    .dataframe tbody tr th:only-of-type {\n",
       "        vertical-align: middle;\n",
       "    }\n",
       "\n",
       "    .dataframe tbody tr th {\n",
       "        vertical-align: top;\n",
       "    }\n",
       "\n",
       "    .dataframe thead th {\n",
       "        text-align: right;\n",
       "    }\n",
       "</style>\n",
       "<table border=\"1\" class=\"dataframe\">\n",
       "  <thead>\n",
       "    <tr style=\"text-align: right;\">\n",
       "      <th></th>\n",
       "      <th>pt</th>\n",
       "      <th>ageg</th>\n",
       "      <th>race</th>\n",
       "      <th>edu</th>\n",
       "      <th>d1</th>\n",
       "      <th>f1a</th>\n",
       "      <th>pcs12</th>\n",
       "      <th>hotflash</th>\n",
       "      <th>bmi30</th>\n",
       "      <th>estra</th>\n",
       "      <th>fsh</th>\n",
       "      <th>lh</th>\n",
       "      <th>testo</th>\n",
       "      <th>dheas</th>\n",
       "    </tr>\n",
       "  </thead>\n",
       "  <tbody>\n",
       "    <tr>\n",
       "      <th>0</th>\n",
       "      <td>3</td>\n",
       "      <td>2</td>\n",
       "      <td>0</td>\n",
       "      <td>1</td>\n",
       "      <td>0</td>\n",
       "      <td>0</td>\n",
       "      <td>56.80537</td>\n",
       "      <td>0</td>\n",
       "      <td>0</td>\n",
       "      <td>106.71</td>\n",
       "      <td>3.005</td>\n",
       "      <td>2.980</td>\n",
       "      <td>7.680</td>\n",
       "      <td>61.225</td>\n",
       "    </tr>\n",
       "    <tr>\n",
       "      <th>1</th>\n",
       "      <td>6</td>\n",
       "      <td>3</td>\n",
       "      <td>0</td>\n",
       "      <td>1</td>\n",
       "      <td>0</td>\n",
       "      <td>0</td>\n",
       "      <td>59.18338</td>\n",
       "      <td>0</td>\n",
       "      <td>0</td>\n",
       "      <td>31.25</td>\n",
       "      <td>11.195</td>\n",
       "      <td>5.760</td>\n",
       "      <td>11.930</td>\n",
       "      <td>104.920</td>\n",
       "    </tr>\n",
       "    <tr>\n",
       "      <th>2</th>\n",
       "      <td>7</td>\n",
       "      <td>1</td>\n",
       "      <td>0</td>\n",
       "      <td>1</td>\n",
       "      <td>0</td>\n",
       "      <td>1</td>\n",
       "      <td>57.73952</td>\n",
       "      <td>0</td>\n",
       "      <td>0</td>\n",
       "      <td>13.41</td>\n",
       "      <td>14.545</td>\n",
       "      <td>5.595</td>\n",
       "      <td>24.375</td>\n",
       "      <td>117.450</td>\n",
       "    </tr>\n",
       "    <tr>\n",
       "      <th>3</th>\n",
       "      <td>8</td>\n",
       "      <td>1</td>\n",
       "      <td>0</td>\n",
       "      <td>1</td>\n",
       "      <td>1</td>\n",
       "      <td>0</td>\n",
       "      <td>55.83575</td>\n",
       "      <td>1</td>\n",
       "      <td>0</td>\n",
       "      <td>10.64</td>\n",
       "      <td>5.530</td>\n",
       "      <td>2.260</td>\n",
       "      <td>8.280</td>\n",
       "      <td>36.850</td>\n",
       "    </tr>\n",
       "    <tr>\n",
       "      <th>4</th>\n",
       "      <td>9</td>\n",
       "      <td>2</td>\n",
       "      <td>0</td>\n",
       "      <td>1</td>\n",
       "      <td>0</td>\n",
       "      <td>1</td>\n",
       "      <td>55.89324</td>\n",
       "      <td>0</td>\n",
       "      <td>0</td>\n",
       "      <td>24.06</td>\n",
       "      <td>9.780</td>\n",
       "      <td>2.600</td>\n",
       "      <td>4.050</td>\n",
       "      <td>11.165</td>\n",
       "    </tr>\n",
       "  </tbody>\n",
       "</table>\n",
       "</div>"
      ],
      "text/plain": [
       "   pt  ageg  race  edu  d1  f1a     pcs12  hotflash  bmi30   estra     fsh  \\\n",
       "0   3     2     0    1   0    0  56.80537         0      0  106.71   3.005   \n",
       "1   6     3     0    1   0    0  59.18338         0      0   31.25  11.195   \n",
       "2   7     1     0    1   0    1  57.73952         0      0   13.41  14.545   \n",
       "3   8     1     0    1   1    0  55.83575         1      0   10.64   5.530   \n",
       "4   9     2     0    1   0    1  55.89324         0      0   24.06   9.780   \n",
       "\n",
       "      lh   testo    dheas  \n",
       "0  2.980   7.680   61.225  \n",
       "1  5.760  11.930  104.920  \n",
       "2  5.595  24.375  117.450  \n",
       "3  2.260   8.280   36.850  \n",
       "4  2.600   4.050   11.165  "
      ]
     },
     "execution_count": 27,
     "metadata": {},
     "output_type": "execute_result"
    }
   ],
   "source": [
    "hot_flashes_df = hot_flashes_df.rename(columns={'aagrp':'race'})\n",
    "hot_flashes_df.head(5)"
   ]
  },
  {
   "cell_type": "markdown",
   "id": "6b9aaea7-6840-44cb-9da9-cd56e57321b1",
   "metadata": {},
   "source": [
    "### Question 4"
   ]
  },
  {
   "cell_type": "markdown",
   "id": "c7a02cb4-fdad-4610-9e92-f59702689916",
   "metadata": {},
   "source": [
    "Assign the variables `num_smokers` and `num_nonsmokers` to the number of smokers and non smokers in the dataset.  \n",
    "\n",
    "Then, assign `smokers_df` and `nonsmokersdf` to a dataframe with the rows of smokers and non-smoker, respectively. You may need to refer to the data dictionary to understand what the column names mean."
   ]
  },
  {
   "cell_type": "code",
   "execution_count": 28,
   "id": "efc3c643-b15f-4c62-aca7-4e0faeafea3f",
   "metadata": {},
   "outputs": [
    {
     "name": "stdout",
     "output_type": "stream",
     "text": [
      "Number of smokers: 138\n",
      "Number of nonsmokers: 237\n",
      "Total number of people: 375\n"
     ]
    }
   ],
   "source": [
    "num_smokers = sum(hot_flashes_df['f1a'])\n",
    "smokers_df = hot_flashes_df[hot_flashes_df['f1a'] == 1]\n",
    "\n",
    "num_nonsmokers = hot_flashes_df.shape[0] - sum(hot_flashes_df['f1a'])\n",
    "nonsmokers_df = hot_flashes_df[hot_flashes_df['f1a'] == 0]\n",
    "\n",
    "print(f'Number of smokers: {num_smokers}')\n",
    "print(f'Number of nonsmokers: {num_nonsmokers}')\n",
    "\n",
    "# This value should be the same as the number of rows\n",
    "print(f'Total number of people: {num_smokers + num_nonsmokers}')"
   ]
  },
  {
   "cell_type": "markdown",
   "id": "ab5ecb05-fd26-4e6a-be2e-8ebf42b84adb",
   "metadata": {},
   "source": [
    "### Question 5"
   ]
  },
  {
   "cell_type": "markdown",
   "id": "a829ae62-9811-49fa-9c28-ab35f51db9e5",
   "metadata": {},
   "source": [
    "Compare the rate of hot flashes symptoms experienced among smokers and the rate of hot flashes symptoms experienced  among nonsmokers. What do you notice?"
   ]
  },
  {
   "cell_type": "code",
   "execution_count": 29,
   "id": "12fdcb46-66d0-472b-b985-e259e5710e67",
   "metadata": {},
   "outputs": [
    {
     "name": "stdout",
     "output_type": "stream",
     "text": [
      "Rate of hot flashes symptoms among smokers: 0.4855072463768116\n",
      "Rate of hot flashes symptoms among nonsmokers: 0.28270042194092826\n"
     ]
    }
   ],
   "source": [
    "num_smokers_with_hf = smokers_df[smokers_df['d1'] == 1]\n",
    "num_nonsmokers_with_hf = smokers_df[smokers_df['d1'] == 1]\n",
    "\n",
    "rate_smokers = num_smokers_with_hf.shape[0] / num_smokers\n",
    "rate_nonsmokers = num_nonsmokers_with_hf.shape[0] / num_nonsmokers\n",
    "\n",
    "print(f'Rate of hot flashes symptoms among smokers: {rate_smokers}')\n",
    "print(f'Rate of hot flashes symptoms among nonsmokers: {rate_nonsmokers}')"
   ]
  },
  {
   "cell_type": "markdown",
   "id": "6d53066d-a5f9-43aa-9173-ccedca9bef6e",
   "metadata": {},
   "source": [
    "**Rate of hot flashes symptoms seems to be higher among smokers than nonsmokers. Not sure if we can infer association or causation based on rate alone.**"
   ]
  },
  {
   "cell_type": "markdown",
   "id": "a0121462-5021-48ec-9a6d-4ca34ee2661c",
   "metadata": {},
   "source": [
    "### Question 6\n",
    "\n",
    "Create a new column in `hot_flashes_df` that is the logarithm of the Baseline Testosterone Hormone. Name this new column `log_testo`"
   ]
  },
  {
   "cell_type": "code",
   "execution_count": 30,
   "id": "b6f0858e-69e6-46b7-879e-cdaeb307beae",
   "metadata": {},
   "outputs": [
    {
     "data": {
      "text/html": [
       "<div>\n",
       "<style scoped>\n",
       "    .dataframe tbody tr th:only-of-type {\n",
       "        vertical-align: middle;\n",
       "    }\n",
       "\n",
       "    .dataframe tbody tr th {\n",
       "        vertical-align: top;\n",
       "    }\n",
       "\n",
       "    .dataframe thead th {\n",
       "        text-align: right;\n",
       "    }\n",
       "</style>\n",
       "<table border=\"1\" class=\"dataframe\">\n",
       "  <thead>\n",
       "    <tr style=\"text-align: right;\">\n",
       "      <th></th>\n",
       "      <th>pt</th>\n",
       "      <th>ageg</th>\n",
       "      <th>race</th>\n",
       "      <th>edu</th>\n",
       "      <th>d1</th>\n",
       "      <th>f1a</th>\n",
       "      <th>pcs12</th>\n",
       "      <th>hotflash</th>\n",
       "      <th>bmi30</th>\n",
       "      <th>estra</th>\n",
       "      <th>fsh</th>\n",
       "      <th>lh</th>\n",
       "      <th>testo</th>\n",
       "      <th>dheas</th>\n",
       "      <th>log_testo</th>\n",
       "    </tr>\n",
       "  </thead>\n",
       "  <tbody>\n",
       "    <tr>\n",
       "      <th>0</th>\n",
       "      <td>3</td>\n",
       "      <td>2</td>\n",
       "      <td>0</td>\n",
       "      <td>1</td>\n",
       "      <td>0</td>\n",
       "      <td>0</td>\n",
       "      <td>56.80537</td>\n",
       "      <td>0</td>\n",
       "      <td>0</td>\n",
       "      <td>106.71</td>\n",
       "      <td>3.005</td>\n",
       "      <td>2.980</td>\n",
       "      <td>7.680</td>\n",
       "      <td>61.225</td>\n",
       "      <td>2.038620</td>\n",
       "    </tr>\n",
       "    <tr>\n",
       "      <th>1</th>\n",
       "      <td>6</td>\n",
       "      <td>3</td>\n",
       "      <td>0</td>\n",
       "      <td>1</td>\n",
       "      <td>0</td>\n",
       "      <td>0</td>\n",
       "      <td>59.18338</td>\n",
       "      <td>0</td>\n",
       "      <td>0</td>\n",
       "      <td>31.25</td>\n",
       "      <td>11.195</td>\n",
       "      <td>5.760</td>\n",
       "      <td>11.930</td>\n",
       "      <td>104.920</td>\n",
       "      <td>2.479056</td>\n",
       "    </tr>\n",
       "    <tr>\n",
       "      <th>2</th>\n",
       "      <td>7</td>\n",
       "      <td>1</td>\n",
       "      <td>0</td>\n",
       "      <td>1</td>\n",
       "      <td>0</td>\n",
       "      <td>1</td>\n",
       "      <td>57.73952</td>\n",
       "      <td>0</td>\n",
       "      <td>0</td>\n",
       "      <td>13.41</td>\n",
       "      <td>14.545</td>\n",
       "      <td>5.595</td>\n",
       "      <td>24.375</td>\n",
       "      <td>117.450</td>\n",
       "      <td>3.193558</td>\n",
       "    </tr>\n",
       "    <tr>\n",
       "      <th>3</th>\n",
       "      <td>8</td>\n",
       "      <td>1</td>\n",
       "      <td>0</td>\n",
       "      <td>1</td>\n",
       "      <td>1</td>\n",
       "      <td>0</td>\n",
       "      <td>55.83575</td>\n",
       "      <td>1</td>\n",
       "      <td>0</td>\n",
       "      <td>10.64</td>\n",
       "      <td>5.530</td>\n",
       "      <td>2.260</td>\n",
       "      <td>8.280</td>\n",
       "      <td>36.850</td>\n",
       "      <td>2.113843</td>\n",
       "    </tr>\n",
       "    <tr>\n",
       "      <th>4</th>\n",
       "      <td>9</td>\n",
       "      <td>2</td>\n",
       "      <td>0</td>\n",
       "      <td>1</td>\n",
       "      <td>0</td>\n",
       "      <td>1</td>\n",
       "      <td>55.89324</td>\n",
       "      <td>0</td>\n",
       "      <td>0</td>\n",
       "      <td>24.06</td>\n",
       "      <td>9.780</td>\n",
       "      <td>2.600</td>\n",
       "      <td>4.050</td>\n",
       "      <td>11.165</td>\n",
       "      <td>1.398717</td>\n",
       "    </tr>\n",
       "  </tbody>\n",
       "</table>\n",
       "</div>"
      ],
      "text/plain": [
       "   pt  ageg  race  edu  d1  f1a     pcs12  hotflash  bmi30   estra     fsh  \\\n",
       "0   3     2     0    1   0    0  56.80537         0      0  106.71   3.005   \n",
       "1   6     3     0    1   0    0  59.18338         0      0   31.25  11.195   \n",
       "2   7     1     0    1   0    1  57.73952         0      0   13.41  14.545   \n",
       "3   8     1     0    1   1    0  55.83575         1      0   10.64   5.530   \n",
       "4   9     2     0    1   0    1  55.89324         0      0   24.06   9.780   \n",
       "\n",
       "      lh   testo    dheas  log_testo  \n",
       "0  2.980   7.680   61.225   2.038620  \n",
       "1  5.760  11.930  104.920   2.479056  \n",
       "2  5.595  24.375  117.450   3.193558  \n",
       "3  2.260   8.280   36.850   2.113843  \n",
       "4  2.600   4.050   11.165   1.398717  "
      ]
     },
     "execution_count": 30,
     "metadata": {},
     "output_type": "execute_result"
    }
   ],
   "source": [
    "hot_flashes_df['log_testo'] = np.log(hot_flashes_df['testo'])\n",
    "\n",
    "hot_flashes_df.head(5)"
   ]
  },
  {
   "cell_type": "markdown",
   "id": "765dad3b-f100-45db-8415-e7b9e6703ffe",
   "metadata": {},
   "source": [
    "### Question 7"
   ]
  },
  {
   "cell_type": "markdown",
   "id": "73c0e5f2-0be3-4e10-94ba-a8ec4ffdfcf2",
   "metadata": {},
   "source": [
    "Use the Seaborn library to create a histogram of the Baseline Estradiol (pg/ml), segmented by whether or not the patient has ever had menopause symptoms. Without regards to the interpretation of this distribution, how would you describe the spread and center of this distribution?  \n",
    "(Hint: use the parameter 'hue', refer to the concept of skew)"
   ]
  },
  {
   "cell_type": "code",
   "execution_count": 31,
   "id": "61863645-d3f8-4069-8693-f0744db4f375",
   "metadata": {},
   "outputs": [
    {
     "data": {
      "image/png": "[encoded data removed]",
      "text/plain": [
       "<Figure size 640x480 with 1 Axes>"
      ]
     },
     "metadata": {},
     "output_type": "display_data"
    }
   ],
   "source": [
    "sns.histplot(data=hot_flashes_df, x='estra', hue='d1');"
   ]
  },
  {
   "cell_type": "markdown",
   "id": "8be02106-2b24-4f6a-a004-ac4f5e6e73bc",
   "metadata": {},
   "source": [
    "**The distributions of Baseline Estradiol seem to be unimodal. They have a tail towards larger values and both seem to be right skewed.**"
   ]
  },
  {
   "cell_type": "markdown",
   "id": "f9495aa4-052c-4b7a-b7c9-1b683e67ff79",
   "metadata": {},
   "source": [
    "### Question 8"
   ]
  },
  {
   "cell_type": "markdown",
   "id": "96c44bf6-5d6e-464c-8053-51890e5aa0a1",
   "metadata": {},
   "source": [
    "Use the Seaborn library like you did in question 4 to create a scatterplot of the Baseline Estradiol (pg/ml) and Baseline Testosterone Hormone segmented by race.  \n",
    "(Hint: use the parameter 'hue')"
   ]
  },
  {
   "cell_type": "code",
   "execution_count": 32,
   "id": "9fabedd2-6f39-4902-8b6e-133ecda46f03",
   "metadata": {},
   "outputs": [
    {
     "data": {
      "image/png": "[encoded data removed]",
      "text/plain": [
       "<Figure size 640x480 with 1 Axes>"
      ]
     },
     "metadata": {},
     "output_type": "display_data"
    }
   ],
   "source": [
    "sns.scatterplot(data=hot_flashes_df, x='estra', y='testo', hue='race');\n",
    "plt.title('Baseline Estradiol vs. Baseline Testosterone');"
   ]
  },
  {
   "cell_type": "markdown",
   "id": "5649028f-e751-418f-bac0-60fdf0bb9ebf",
   "metadata": {},
   "source": [
    "---"
   ]
  },
  {
   "cell_type": "markdown",
   "id": "a28109f9-388f-4b77-9628-2ca829deed7b",
   "metadata": {},
   "source": [
    "### Submission\n",
    "Congratulations! You have finished homework 4 You should now have a better grasp of the following concepts:\n",
    "- Utilize pandas to subset dataframes\n",
    "- Use the shape function to determine the number of columns or rows in a dataset\n",
    "- Create or modify columns in a dataframe\n",
    "- Use seaborn to make data visualizations"
   ]
  },
  {
   "cell_type": "markdown",
   "id": "b36a1e62-0a9f-4c00-bb42-e3695710fe48",
   "metadata": {},
   "source": [
    "Please submit this assignment to bCourses."
   ]
  },
  {
   "cell_type": "markdown",
   "id": "13ed4324-f9ed-468a-8a11-05bc10919dad",
   "metadata": {},
   "source": [
    "<hr style=\"border: 5px solid #003262;\" />\n",
    "<hr style=\"border: 1px solid #fdb515;\" />"
   ]
  },
  {
   "cell_type": "markdown",
   "id": "82241ba8-234d-442c-9ce8-d6c19d6d2c75",
   "metadata": {},
   "source": [
    "### Sources  \n",
    "1. https://www.causeweb.org/tshs/hot-flashes/"
   ]
  },
  {
   "cell_type": "markdown",
   "id": "b4fb4fae-1ab2-415c-8475-c0e724b8d13c",
   "metadata": {},
   "source": [
    " "
   ]
  }
 ],
 "metadata": {
  "kernelspec": {
   "display_name": "Python 3 (ipykernel)",
   "language": "python",
   "name": "python3"
  },
  "language_info": {
   "codemirror_mode": {
    "name": "ipython",
    "version": 3
   },
   "file_extension": ".py",
   "mimetype": "text/x-python",
   "name": "python",
   "nbconvert_exporter": "python",
   "pygments_lexer": "ipython3",
   "version": "3.9.18"
  }
 },
 "nbformat": 4,
 "nbformat_minor": 5
}
